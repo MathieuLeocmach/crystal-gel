{
 "metadata": {
  "name": "",
  "signature": "sha256:314a250d107fcd704af197b761254031e3d12f60797d2bae3d32301b2470fff7"
 },
 "nbformat": 3,
 "nbformat_minor": 0,
 "worksheets": [
  {
   "cells": [
    {
     "cell_type": "markdown",
     "metadata": {},
     "source": [
      "There will be some Python code inserted in this document to show you graphs. You can either ignore the code or dive into the details if you want."
     ]
    },
    {
     "cell_type": "code",
     "collapsed": false,
     "input": [
      "from matplotlib.pyplot import *\n",
      "%matplotlib inline\n",
      "from scipy.optimize import leastsq\n",
      "from scipy.constants import N_A\n",
      "#my module to generate phase diagrams\n",
      "from colloids import phase"
     ],
     "language": "python",
     "metadata": {},
     "outputs": [],
     "prompt_number": 37
    },
    {
     "cell_type": "heading",
     "level": 1,
     "metadata": {},
     "source": [
      "How to make a colloid+polymer phase diagram"
     ]
    },
    {
     "cell_type": "markdown",
     "metadata": {},
     "source": [
      "Here we follow Fleer, G. J. & Tuinier, R. [Analytical phase diagrams for colloids and non-adsorbing polymer.](http://www.sciencedirect.com/science/article/pii/S0001868608001127) Adv. Colloid Interface Sci. 143, 1\u201347 (2008).\n",
      "\n",
      "Unless indicated otherwise all quantities are dimensionless, with the Kuhn length $\\ell$ as the yardstick for all lengths, and $kT$ for the energy. For example the insersion work $\\Pi v$ in in unit of $kT$, and the radius of gyration $R$, the depletion thickness $\\delta$ and the colloid radius $a$ are all in units $\\ell$."
     ]
    },
    {
     "cell_type": "heading",
     "level": 2,
     "metadata": {},
     "source": [
      "Polymer physics"
     ]
    },
    {
     "cell_type": "heading",
     "level": 3,
     "metadata": {},
     "source": [
      "Radius of gyration"
     ]
    },
    {
     "cell_type": "markdown",
     "metadata": {},
     "source": [
      "The Kuhn length is the length over which the polymer coil can be considered random. In a good solvent, the Flory scaling can be written as an equality\n",
      "\n",
      "$$R=\\ell N^{3/5}$$\n",
      "\n",
      "Here $N$ is not the number of monomers, but the number of Kuhn lengths you would have in the completely stretched polymer. However we know that $N$ is proportional to the number of monomers and thus to the molecular weight."
     ]
    },
    {
     "cell_type": "markdown",
     "metadata": {},
     "source": [
      "I gathered from the literature molecular weights and corresponding radii of gyration for the same polymer (Polystyrene, 104.1 g/mol of repeating unit) in the same solvent mixture (PMMA density matching mixture of cis-decalin and cyclohexyl bromide). The temperature is not often given, but must be \"room temperature\", thus close to our 25\u00b0C as in our case. Anyway, the temperature dependence of $R$ is small."
     ]
    },
    {
     "cell_type": "code",
     "collapsed": false,
     "input": [
      "Mws = np.array([69.2e3, 2e5, 212.4e3, 333e3, 681e3, 900e3, 1.95e6, 11.4e6, 13.2e6, 21e6, 31e6])\n",
      "Rgs = np.array([10.0, 12.5, 0.02*660, 15, 33.0, 41, 35, 1330*0.14, 145.4, 180, 220])\n",
      "scatter(Mws, Rgs)\n",
      "xscale('log')\n",
      "yscale('log')\n",
      "xlabel(r'$Mw$ (Da)')\n",
      "ylabel(r'$R$ (nm)')\n",
      "#Flory exponent\n",
      "a = np.exp(leastsq(\n",
      "    lambda p, x, y: p[0] + 3/5.*x-y, \n",
      "    [1], \n",
      "    args=(np.log(Mws), np.log(Rgs))\n",
      "    )[0][0])\n",
      "X = 10**np.arange(4,9)\n",
      "plot(X, a*X**(3/5.), label='Flory exponent')\n",
      "\n",
      "print a * 3.8e6**(3/5.)"
     ],
     "language": "python",
     "metadata": {},
     "outputs": [
      {
       "output_type": "stream",
       "stream": "stdout",
       "text": [
        "76.0202264269\n"
       ]
      },
      {
       "metadata": {},
       "output_type": "display_data",
       "png": "[encoded data removed]",
       "text": [
        "<matplotlib.figure.Figure at 0x7f587684dcd0>"
       ]
      }
     ],
     "prompt_number": 2
    },
    {
     "cell_type": "markdown",
     "metadata": {},
     "source": [
      "I can fit a flory scaling through the points and obtain the radius of gyration for ourmolecular weight ($Mw = 3.8$ MDa $= 3.8$ g/mol): $R=76$ nm."
     ]
    },
    {
     "cell_type": "heading",
     "level": 3,
     "metadata": {},
     "source": [
      "Overlap concentration"
     ]
    },
    {
     "cell_type": "markdown",
     "metadata": {},
     "source": [
      "The overlap concentration is defined as\n",
      "\n",
      "$$C^* = \\frac{N}{V_\\mathrm{coil}} = \\frac{3N}{4\\pi R^3}$$\n",
      "\n",
      "The total weight of a coil of polymer is $Mw/\\mathcal{N}_A$, where $\\mathcal{N}_A$ is the Avogadro number, so the mass overlap concentration is\n",
      "\n",
      "$$C^*w = \\frac{3Mw}{4\\pi R^3\\mathcal{N}_A}$$\n",
      "\n",
      "Knowing the density of the solvent $d=1.24$ g/ml we can obtain the weight per weight overlap concentration\n",
      "\n",
      "$$C^*w/w = \\frac{3Mw}{4\\pi R^3\\mathcal{N}_A d}$$"
     ]
    },
    {
     "cell_type": "code",
     "collapsed": false,
     "input": [
      "(3 * 3.6e6)/(4 * np.pi * (76e-9)**3 * N_A * 1.24e6) #in (m, g, mol) units"
     ],
     "language": "python",
     "metadata": {},
     "outputs": [
      {
       "metadata": {},
       "output_type": "pyout",
       "prompt_number": 38,
       "text": [
        "0.002621805612683358"
       ]
      }
     ],
     "prompt_number": 38
    },
    {
     "cell_type": "markdown",
     "metadata": {},
     "source": [
      "Thus $C^*w/w\\approx 2.6$ mg/g. Here, our largest polymer weight fraction is 1.36 mg/g, so we are always in dilute regime."
     ]
    },
    {
     "cell_type": "heading",
     "level": 2,
     "metadata": {},
     "source": [
      "Theoretical phase diagram"
     ]
    },
    {
     "cell_type": "heading",
     "level": 3,
     "metadata": {},
     "source": [
      "Free volume theory"
     ]
    },
    {
     "cell_type": "markdown",
     "metadata": {},
     "source": [
      "We consider a system where two phases of different colloid and polymer concentrations are at equilibrium with each other and with an external reservoir containing only the polymer solution. The chemical potential of the polymer in the system is determined by its volume fraction $\\phi$ in the reservoir. This is also the volume fraction in the free volume $V_\\mathrm{free}$ available to the polymers. However the overall internal volume fraction $\\Phi = N_P V_\\mathrm{coil}/V$ is lower because $V_\\mathrm{free} < V$. More precisely:\n",
      "\n",
      "$$\\Phi_X = \\alpha_X \\phi$$\n",
      "\n",
      "where $X$ is the phase, either gas (G), liquid (L) or solid (S). When the phase is dilute in colloids \n",
      "\n",
      "$$V_\\mathrm{free} = V - N_C * \\frac{4\\pi}{3}(a+\\delta)^3$$\n",
      "\n",
      "with $\\delta$ the depletion layer thickness and $a$ the colloid radius. Thus we can write in terms of colloid volume fraction $\\varphi$:\n",
      "\n",
      "$$\\alpha(\\varphi, \\delta, a) = 1 - \\varphi\\left(1+\\frac{\\delta}{a}\\right)^3$$.\n",
      "\n",
      "In the following we will use a more complete expression for $\\alpha$, valid for all colloid volume fraction and depending only on $q=\\delta/a$. See the original paper."
     ]
    },
    {
     "cell_type": "markdown",
     "metadata": {},
     "source": [
      "To construct the phase diagram, we need to know the ratio $q=\\delta/a$ between the depletion layer thickness $\\delta$ and the colloid radius $a$.\n",
      "\n",
      "Since the polymer is in dilute regime, we can consider that $\\delta$ is constant and thus $q$ is constant. $q$ is related to the real size ratio $q_R=R/a$ via $q\\approx 0.9 q_R^{0.9}$. Here $q_R\\approx 76/1050 \\approx 0.072$."
     ]
    },
    {
     "cell_type": "code",
     "collapsed": false,
     "input": [
      "qR = 76.02/1050.\n",
      "q = phase.qR2q(qR)\n",
      "print 'qR = %0.3f, q = %0.3f'%(qR, q)"
     ],
     "language": "python",
     "metadata": {},
     "outputs": [
      {
       "output_type": "stream",
       "stream": "stdout",
       "text": [
        "qR = 0.072, q = 0.076\n"
       ]
      }
     ],
     "prompt_number": 4
    },
    {
     "cell_type": "markdown",
     "metadata": {},
     "source": [
      "In this semi-open system, the relevant thermodynamic characteristic function is the grand potential $\\Omega(T,V,N_C, \\mu_P)$ where $\\mu_P$ is the polymer chemical potential. We write $\\Omega = \\Omega^0 + \\Omega^P$ where $\\Omega^0 = F^0$ is the free energy of the hard sphere system without polymer and $\\Omega^P$ is the polymer contribution. It is convinient to have $\\omega = \\Omega v/V$ with $v=4\\pi a^3/3$ the volume of a colloid. Taking into account the solvent, the polymer contribution $\\omega^P$ can be related to the osmotic pressure in the reservoir $\\Pi$:\n",
      "$$\\omega^P = -\\int_{-\\infty}^{\\mu_P}\\alpha d\\Pi v$$\n",
      "\n",
      "Since here $\\alpha$ do not depends on $\\mu_P$ we have $\\omega^P = -\\alpha \\Pi v$. We see that $\\Pi v$ is a natural parameter. It is the osmotic work to insert a particle (without the depletion layer) into the polymer solution.\n",
      "\n",
      "From this and the expression of $\\alpha$, one can derive analytical expressions for the polymer contribution to the chemical potention of the colloids $\\mu_C^P$ and to the pressure $(pv)^P$. Hard sphere contributions are obtained from Carnahan-Starling equation of state. \n",
      "\n",
      "We know have expressons for $\\mu_C(\\varphi,\\Pi v, q)$ and $pv(\\varphi,\\Pi v, q)$ where $q$ is a constant parameter."
     ]
    },
    {
     "cell_type": "heading",
     "level": 3,
     "metadata": {},
     "source": [
      "Phase diagram in $(\\varphi, \\Pi v)$ space"
     ]
    },
    {
     "cell_type": "markdown",
     "metadata": {},
     "source": [
      "At the critical point the first and second derivatives of $pv$ with respect to $\\varphi$ are zero. This sets a system of two equations with two unknowns $\\varphi^{cp}$ and $\\Pi^{cp}v$ that we solve numerically."
     ]
    },
    {
     "cell_type": "code",
     "collapsed": false,
     "input": [
      "fc, pivc = phase.CarnahanStarling().critical_point(q)\n",
      "print 'At critical point colloid volume fraction is %0.3f and osmotic insertion work is %0.3f kT'%(phase.f2vf(fc), pivc)"
     ],
     "language": "python",
     "metadata": {},
     "outputs": [
      {
       "output_type": "stream",
       "stream": "stdout",
       "text": [
        "At critical point colloid volume fraction is 0.621 and osmotic insertion work is 514.870 kT\n"
       ]
      }
     ],
     "prompt_number": 5
    },
    {
     "cell_type": "markdown",
     "metadata": {},
     "source": [
      "Spinodal are calculated from the condition \n",
      "$$\\frac{dpv}{d\\varphi}=0$$\n",
      "If we fix $\\Pi v$ we have a unique curve of $pv$ function of $\\varphi$. Above $\\Pi^{cp} v$ this curve shows a maximum and a minimum. The decreasing region in between is the unstable spinodal region."
     ]
    },
    {
     "cell_type": "code",
     "collapsed": false,
     "input": [
      "phis = np.linspace(1e-3,0.7)\n",
      "fs = phase.vf2f(phis)\n",
      "for piv in [pivc, 516, 518]:\n",
      "    plot(phis, phase.CarnahanStarling().pv(fs, piv, q))\n",
      "xlabel(r'$\\varphi$')\n",
      "ylabel(r'$\\Pi v$')"
     ],
     "language": "python",
     "metadata": {},
     "outputs": [
      {
       "metadata": {},
       "output_type": "pyout",
       "prompt_number": 6,
       "text": [
        "<matplotlib.text.Text at 0x7f58759a6390>"
       ]
      },
      {
       "metadata": {},
       "output_type": "display_data",
       "png": "[encoded data removed]",
       "text": [
        "<matplotlib.figure.Figure at 0x7f587684d610>"
       ]
      }
     ],
     "prompt_number": 6
    },
    {
     "cell_type": "markdown",
     "metadata": {},
     "source": [
      "The respective volume fractions of the maximum and the minimum can be obtained numerically for each $\\Pi v$, yielding the spinodal lines."
     ]
    },
    {
     "cell_type": "code",
     "collapsed": false,
     "input": [
      "pivs = 1./np.linspace(1./pivc, 1./3500)\n",
      "sp = phase.CarnahanStarling().spinodalGL(q, pivs)\n",
      "plot(phase.f2vf(sp[:,1]), sp[:,0])\n",
      "plot(phase.f2vf(sp[:,2]), sp[:,0])\n",
      "scatter(phase.f2vf(fc), pivc, c='k')\n",
      "xlabel(r'$\\varphi$')\n",
      "ylabel(r'$\\Pi v$')"
     ],
     "language": "python",
     "metadata": {},
     "outputs": [
      {
       "metadata": {},
       "output_type": "pyout",
       "prompt_number": 7,
       "text": [
        "<matplotlib.text.Text at 0x7f5875adcd90>"
       ]
      },
      {
       "metadata": {},
       "output_type": "display_data",
       "png": "[encoded data removed]",
       "text": [
        "<matplotlib.figure.Figure at 0x7f5875a4ed10>"
       ]
      }
     ],
     "prompt_number": 7
    },
    {
     "cell_type": "markdown",
     "metadata": {},
     "source": [
      "On the above graph, the liquid branch is obviously wrong, going far over 0.74. Actually the Carnahan & Starling equation of state has no divergence before $\\varphi=1$ so large volume fraction (above 0.56) are unrelyable. However the spinodal curve is a local property of the equation of state and thus the gas branch that stays in dilute regime where Carnahan & Starling is valid is correct.\n",
      "\n",
      "To confirm this, below superimpose the results from an other equation of state, with a divergence at random close packing. The critical point is shifted to smaller $\\varphi$, the liquid branch is very different, but the gas branch is the same."
     ]
    },
    {
     "cell_type": "code",
     "collapsed": false,
     "input": [
      "fc2, pivc2 = phase.Liu().critical_point(q)\n",
      "pivs = 1./np.linspace(1./pivc2, 1./3500)\n",
      "sp2 = phase.Liu().spinodalGL(q, pivs)\n",
      "plot(phase.f2vf(sp[:,1]), sp[:,0])\n",
      "plot(phase.f2vf(sp[:,2]), sp[:,0])\n",
      "plot(phase.f2vf(sp2[:,1]), sp2[:,0], 'ob')\n",
      "plot(phase.f2vf(sp2[:,2]), sp2[:,0], 'og')\n",
      "scatter(phase.f2vf(fc), pivc, c='k')\n",
      "scatter(phase.f2vf(fc2), pivc2, c='y')\n",
      "xlabel(r'$\\varphi$')\n",
      "ylabel(r'$\\Pi v$')"
     ],
     "language": "python",
     "metadata": {},
     "outputs": [
      {
       "metadata": {},
       "output_type": "pyout",
       "prompt_number": 8,
       "text": [
        "<matplotlib.text.Text at 0x7f5875b61610>"
       ]
      },
      {
       "metadata": {},
       "output_type": "display_data",
       "png": "[encoded data removed]",
       "text": [
        "<matplotlib.figure.Figure at 0x7f5875bc3ad0>"
       ]
      }
     ],
     "prompt_number": 8
    },
    {
     "cell_type": "heading",
     "level": 3,
     "metadata": {},
     "source": [
      "Phase diagram in experimental space"
     ]
    },
    {
     "cell_type": "markdown",
     "metadata": {},
     "source": [
      "The osmotic insersion work is *not* an experimentally accessible quantity. However, the osmotic pressure can be expressed by the ideal law $\\Pi = n_R/N$ where $n_R$ is the chain element number density in the reservoir.\n",
      "\n",
      "We can express the chain element number density at overlap $$ n_{ov} = \\frac{3N}{4\\pi R^3}$$\n",
      "\n",
      "and we note $y_R=n_R/n_{ov}$, so that we can express the osmotic insersion work into reduced quantities:\n",
      "\n",
      "$$\\Pi v = y_R v \\frac{n_{ov}}{N} = y_R \\frac{a^3}{R^3} = y_R/q_R^3$$"
     ]
    },
    {
     "cell_type": "markdown",
     "metadata": {},
     "source": [
      "We can now plot the previous results in terms of reduced number density in the reservoir. By the way, $y_R$ is also the ratio of the polymer mass fractions in the reservoir and at overlap."
     ]
    },
    {
     "cell_type": "code",
     "collapsed": false,
     "input": [
      "plot(phase.f2vf(sp[:,1]), phase.piv2y(sp[:,0], qR))\n",
      "plot(phase.f2vf(sp[:,2]), phase.piv2y(sp[:,0], qR))\n",
      "scatter(phase.f2vf(fc), phase.piv2y(pivc, qR), c='k')\n",
      "xlabel(r'$\\varphi$')\n",
      "ylabel(r'$y_R$')"
     ],
     "language": "python",
     "metadata": {},
     "outputs": [
      {
       "metadata": {},
       "output_type": "pyout",
       "prompt_number": 9,
       "text": [
        "<matplotlib.text.Text at 0x7f587684d190>"
       ]
      },
      {
       "metadata": {},
       "output_type": "display_data",
       "png": "[encoded data removed]",
       "text": [
        "<matplotlib.figure.Figure at 0x7f58759866d0>"
       ]
      }
     ],
     "prompt_number": 9
    },
    {
     "cell_type": "markdown",
     "metadata": {},
     "source": [
      "And finally we use our expression of $\\alpha(\\varphi, q)$ to convert into overall polymer concentrations: $y = n/n_{ov} = \\alpha n_R/n_{ov} = \\alpha y_R$"
     ]
    },
    {
     "cell_type": "code",
     "collapsed": false,
     "input": [
      "plot(phase.f2vf(sp[:,1]), phase.piv2y(sp[:,0], qR) * phase.alpha(sp[:,1], q))\n",
      "plot(phase.f2vf(sp[:,2]), phase.piv2y(sp[:,0], qR) * phase.alpha(sp[:,2], q))\n",
      "scatter(phase.f2vf(fc), phase.piv2y(pivc, qR) * phase.alpha(fc, q), c='k')\n",
      "xlabel(r'$\\varphi$')\n",
      "ylabel(r'$y$')\n",
      "ylim(0,1.4)"
     ],
     "language": "python",
     "metadata": {},
     "outputs": [
      {
       "metadata": {},
       "output_type": "pyout",
       "prompt_number": 10,
       "text": [
        "(0, 1.4)"
       ]
      },
      {
       "metadata": {},
       "output_type": "display_data",
       "png": "[encoded data removed]",
       "text": [
        "<matplotlib.figure.Figure at 0x7f5875bfd0d0>"
       ]
      }
     ],
     "prompt_number": 10
    },
    {
     "cell_type": "markdown",
     "metadata": {},
     "source": [
      "Using the mass fraction at overlap, we can convert back into overall polymer mass fraction."
     ]
    },
    {
     "cell_type": "code",
     "collapsed": false,
     "input": [
      "Cov = 2.6 #mg/g\n",
      "plot(phase.f2vf(sp[:,1]), phase.piv2y(sp[:,0], qR) * phase.alpha(sp[:,1], q) * Cov)\n",
      "plot(phase.f2vf(sp[:,2]), phase.piv2y(sp[:,0], qR) * phase.alpha(sp[:,2], q) * Cov)\n",
      "scatter(phase.f2vf(fc), phase.piv2y(pivc, qR) * phase.alpha(fc, q) * Cov, c='k')\n",
      "xlabel(r'$\\varphi$')\n",
      "ylabel(r'$C$ (mg/g)')\n",
      "ylim(0, 1.5)\n",
      "\n",
      "#experimental points (reservoir cell)\n",
      "phixp = np.array([0.25]*4+[0.1]*2)\n",
      "cpxp = np.array([0.38, 0.48, 0.57, 1.07, 0.82, 1.36])\n",
      "scatter(phixp, cpxp, marker='s', color='r')\n",
      "\n",
      "#fluid points (capillary)\n",
      "phiF = np.array([0.114, 0.114, 0.112, 0.068, 0.248, 0.25])\n",
      "cpF = np.array([0.25,0.48,0.57, 0.76, 0.28, 0.34])\n",
      "scatter(phiF, cpF, marker='^', color='k')"
     ],
     "language": "python",
     "metadata": {},
     "outputs": [
      {
       "metadata": {},
       "output_type": "pyout",
       "prompt_number": 11,
       "text": [
        "<matplotlib.collections.PathCollection at 0x7f5875825090>"
       ]
      },
      {
       "metadata": {},
       "output_type": "display_data",
       "png": "[encoded data removed]",
       "text": [
        "<matplotlib.figure.Figure at 0x7f58758b6390>"
       ]
      }
     ],
     "prompt_number": 11
    },
    {
     "cell_type": "heading",
     "level": 3,
     "metadata": {},
     "source": [
      "Final idea"
     ]
    },
    {
     "cell_type": "markdown",
     "metadata": {},
     "source": [
      "Maybe the ion reservoir is also a polymer reservoir, so we do not need to apply $\\alpha$."
     ]
    },
    {
     "cell_type": "code",
     "collapsed": false,
     "input": [
      "Cov = 2.6 #mg/g\n",
      "plot(phase.f2vf(sp[:,1]), phase.piv2y(sp[:,0], qR) * Cov)\n",
      "plot(phase.f2vf(sp[:,2]), phase.piv2y(sp[:,0], qR) * Cov)\n",
      "scatter(phase.f2vf(fc), phase.piv2y(pivc, qR) * Cov, c='k')\n",
      "xlabel(r'$\\varphi$')\n",
      "ylabel(r'$C$ (mg/g)')\n",
      "ylim(0, 1.5)\n",
      "\n",
      "#experimental points (reservoir cell)\n",
      "phixp = np.array([0.25]*4+[0.1]*2)\n",
      "cpxp = np.array([0.38, 0.48, 0.57, 1.07, 0.82, 1.36])\n",
      "scatter(phixp, cpxp, marker='s', color='r')\n",
      "\n",
      "#fluid points (capillary)\n",
      "phiF = np.array([0.114, 0.114, 0.112, 0.068, 0.248, 0.25])\n",
      "cpF = np.array([0.25,0.48,0.57, 0.76, 0.28, 0.34])\n",
      "scatter(phiF, cpF, marker='^', color='k')"
     ],
     "language": "python",
     "metadata": {},
     "outputs": [
      {
       "metadata": {},
       "output_type": "pyout",
       "prompt_number": 98,
       "text": [
        "<matplotlib.collections.PathCollection at 0x7faa9f4ae290>"
       ]
      },
      {
       "metadata": {},
       "output_type": "display_data",
       "png": "[encoded data removed]",
       "text": [
        "<matplotlib.figure.Figure at 0x7faa9f5d53d0>"
       ]
      }
     ],
     "prompt_number": 98
    },
    {
     "cell_type": "markdown",
     "metadata": {},
     "source": [
      "Not good"
     ]
    },
    {
     "cell_type": "heading",
     "level": 3,
     "metadata": {},
     "source": [
      "What we had before"
     ]
    },
    {
     "cell_type": "markdown",
     "metadata": {},
     "source": [
      "when I forgot about the conversion from $y$ to mass fraction."
     ]
    },
    {
     "cell_type": "code",
     "collapsed": false,
     "input": [
      "plot(phase.f2vf(sp[:,1]), phase.piv2y(sp[:,0], qR) * phase.alpha(sp[:,1], q))\n",
      "plot(phase.f2vf(sp[:,2]), phase.piv2y(sp[:,0], qR) * phase.alpha(sp[:,2], q))\n",
      "scatter(phase.f2vf(fc), phase.piv2y(pivc, qR) * phase.alpha(fc, q), c='k')\n",
      "xlabel(r'$\\varphi$')\n",
      "ylabel(r'$C$ (mg/g)')\n",
      "ylim(0, 1.5)\n",
      "\n",
      "#experimental points (reservoir cell)\n",
      "phixp = np.array([0.25]*4+[0.1]*2)\n",
      "cpxp = np.array([0.38, 0.48, 0.57, 1.07, 0.82, 1.36])\n",
      "scatter(phixp, cpxp, marker='s', color='r')\n",
      "\n",
      "#fluid points (capillary)\n",
      "phiF = np.array([0.114, 0.114, 0.112, 0.068, 0.248, 0.25])\n",
      "cpF = np.array([0.25,0.48,0.57, 0.76, 0.28, 0.34])\n",
      "scatter(phiF, cpF, marker='^', color='k')"
     ],
     "language": "python",
     "metadata": {},
     "outputs": [
      {
       "metadata": {},
       "output_type": "pyout",
       "prompt_number": 99,
       "text": [
        "<matplotlib.collections.PathCollection at 0x7faa9f3f2350>"
       ]
      },
      {
       "metadata": {},
       "output_type": "display_data",
       "png": "[encoded data removed]",
       "text": [
        "<matplotlib.figure.Figure at 0x7faa9f444e90>"
       ]
      }
     ],
     "prompt_number": 99
    },
    {
     "cell_type": "markdown",
     "metadata": {},
     "source": [
      "Not perfect either"
     ]
    },
    {
     "cell_type": "heading",
     "level": 3,
     "metadata": {},
     "source": [
      "Fitting $q_R$ so that we get the best agreement with the data"
     ]
    },
    {
     "cell_type": "markdown",
     "metadata": {},
     "source": [
      "We consider that we have the size of the polymer wrong, so we have to adjust $q_R$ and the overlap volume fraction."
     ]
    },
    {
     "cell_type": "code",
     "collapsed": false,
     "input": [
      "for R2 in [76,80,84,88,90]:\n",
      "    Cov2 = 1000 * (3 * 3.6e6)/(4 * np.pi * (R2*1e-9)**3 * N_A * 1.24e6)\n",
      "    qR2 = R2/1050.\n",
      "    q2 = phase.qR2q(qR2)#0.865*qR2**0.88 #phase.qR2q(qR2)\n",
      "    print 'qR = %0.3f, q = %0.3f'%(qR2, q2)\n",
      "\n",
      "    fc2, pivc2 = phase.CarnahanStarling().critical_point(q2)\n",
      "    print 'At critical point colloid volume fraction is %0.3f and osmotic insertion work is %0.3f kT'%(phase.f2vf(fc2), pivc2)\n",
      "    pivs = 1./np.linspace(1./pivc2, 0.2*qR**3)\n",
      "    sp2 = phase.CarnahanStarling().spinodalGL(q2, pivs)\n",
      "\n",
      "    plot(phase.f2vf(sp2[:,1]), phase.piv2y(sp2[:,0], qR2) * phase.alpha(sp2[:,1], q2) * Cov2)\n",
      "    plot(phase.f2vf(sp2[:,2]), phase.piv2y(sp2[:,0], qR2) * phase.alpha(sp2[:,2], q2) * Cov2)\n",
      "    scatter(phase.f2vf(fc2), phase.piv2y(pivc2, qR2) * phase.alpha(fc2, q2) * Cov2, c='k')\n",
      "xlabel(r'$\\varphi$')\n",
      "ylabel(r'$C$ (mg/g)')\n",
      "ylim(0, 1.5)\n",
      "\n",
      "#experimental points (reservoir cell)\n",
      "phixp = np.array([0.25]*4+[0.1]*2)\n",
      "cpxp = np.array([0.38, 0.48, 0.57, 1.07, 0.82, 1.36])\n",
      "scatter(phixp, cpxp, marker='s', color='r')\n",
      "\n",
      "#fluid points (capillary)\n",
      "phiF = np.array([0.114, 0.114, 0.112, 0.068, 0.248, 0.25])\n",
      "cpF = np.array([0.25,0.48,0.57, 0.76, 0.28, 0.34])\n",
      "scatter(phiF, cpF, marker='^', color='k')"
     ],
     "language": "python",
     "metadata": {},
     "outputs": [
      {
       "output_type": "stream",
       "stream": "stdout",
       "text": [
        "qR = 0.072, q = 0.076\n",
        "At critical point colloid volume fraction is 0.621 and osmotic insertion work is 515.233 kT\n",
        "qR = 0.076, q = 0.080"
       ]
      },
      {
       "output_type": "stream",
       "stream": "stdout",
       "text": [
        "\n",
        "At critical point colloid volume fraction is 0.612 and osmotic insertion work is 449.089 kT\n",
        "qR = 0.080, q = 0.084"
       ]
      },
      {
       "output_type": "stream",
       "stream": "stdout",
       "text": [
        "\n",
        "At critical point colloid volume fraction is 0.602 and osmotic insertion work is 394.199 kT\n",
        "qR = 0.084, q = 0.088"
       ]
      },
      {
       "output_type": "stream",
       "stream": "stdout",
       "text": [
        "\n",
        "At critical point colloid volume fraction is 0.593 and osmotic insertion work is 348.227 kT\n",
        "qR = 0.086, q = 0.090"
       ]
      },
      {
       "output_type": "stream",
       "stream": "stdout",
       "text": [
        "\n",
        "At critical point colloid volume fraction is 0.589 and osmotic insertion work is 328.015 kT\n"
       ]
      },
      {
       "metadata": {},
       "output_type": "pyout",
       "prompt_number": 41,
       "text": [
        "<matplotlib.collections.PathCollection at 0x7f5874525d50>"
       ]
      },
      {
       "metadata": {},
       "output_type": "display_data",
       "png": "[encoded data removed]",
       "text": [
        "<matplotlib.figure.Figure at 0x7f58745fefd0>"
       ]
      }
     ],
     "prompt_number": 41
    },
    {
     "cell_type": "markdown",
     "metadata": {},
     "source": [
      "A polymer radius of 90 nm is well within the dispersion of the litterature data around the Flory law."
     ]
    },
    {
     "cell_type": "code",
     "collapsed": false,
     "input": [
      "scatter(Mws, Rgs)\n",
      "scatter(3.8e6, 90, c='r')\n",
      "xscale('log')\n",
      "yscale('log')\n",
      "xlabel(r'$Mw$ (Da)')\n",
      "ylabel(r'$R$ (nm)')\n",
      "plot(X, a*X**(3/5.), label='Flory exponent')"
     ],
     "language": "python",
     "metadata": {},
     "outputs": [
      {
       "metadata": {},
       "output_type": "pyout",
       "prompt_number": 42,
       "text": [
        "[<matplotlib.lines.Line2D at 0x7f58744c2d50>]"
       ]
      },
      {
       "metadata": {},
       "output_type": "display_data",
       "png": "[encoded data removed]",
       "text": [
        "<matplotlib.figure.Figure at 0x7f5874651610>"
       ]
      }
     ],
     "prompt_number": 42
    },
    {
     "cell_type": "heading",
     "level": 3,
     "metadata": {},
     "source": [
      "Fitting the colloidal radius"
     ]
    },
    {
     "cell_type": "markdown",
     "metadata": {},
     "source": [
      "This changes both volume fraction $\\varphi$ of the experimental results and the real size ratio $q_R$ for the theory, but without affecting the overlap concentration."
     ]
    },
    {
     "cell_type": "code",
     "collapsed": false,
     "input": [
      "#relative error in radius determination\n",
      "er_a = (2.2-2.1)/2.1#0.10\n",
      "ephi = (1+er_a)**3\n",
      "R2 = 82.\n",
      "qR2 = R2/(1050.*(1+er_a))\n",
      "q2 = phase.qR2q(qR2)\n",
      "Cov2 = 1000 * (3 * 3.6e6)/(4 * np.pi * (R2*1e-9)**3 * N_A * 1.24e6)\n",
      "print 'qR = %0.3f, q = %0.3f, Cov = %0.3f mg/g'%(qR2, q2, Cov2)\n",
      "\n",
      "fc2, pivc2 = phase.CarnahanStarling().critical_point(q2)\n",
      "print 'At critical point colloid volume fraction is %0.3f and osmotic insertion work is %0.3f kT'%(phase.f2vf(fc2), pivc2)\n",
      "pivs = 1./np.linspace(1./pivc2, 0.2*qR**3)\n",
      "sp2 = phase.CarnahanStarling().spinodalGL(q2, pivs)\n",
      "\n",
      "plot(phase.f2vf(sp2[:,1]), phase.piv2y(sp2[:,0], qR2) * phase.alpha(sp2[:,1], q2) * Cov2)\n",
      "plot(phase.f2vf(sp2[:,2]), phase.piv2y(sp2[:,0], qR2) * phase.alpha(sp2[:,2], q2) * Cov2)\n",
      "scatter(phase.f2vf(fc2), phase.piv2y(pivc2, qR2) * phase.alpha(fc2, q2) * Cov2, c='k')\n",
      "\n",
      "xlabel(r'$\\varphi$')\n",
      "ylabel(r'$C$ (mg/g)')\n",
      "ylim(0, 1.5)\n",
      "\n",
      "#experimental points (reservoir cell)\n",
      "phixp = np.array([0.06, 0.111, 0.117, 0.110, 0.29, 0.272, 0.256, 0.265])\n",
      "cpxp = np.array([0.9, 0.786, 0.82, 1.36, 1.07, 0.38, 0.57, 0.48])\n",
      "scatter(phixp*ephi, cpxp, marker='s', color='r')\n",
      "\n",
      "#fluid points (capillary)\n",
      "phiF = np.array([0.123, 0.123, 0.121, 0.073, 0.267, 0.269])\n",
      "cpF = np.array([0.25,0.48,0.57, 0.76, 0.28, 0.34])\n",
      "scatter(phiF*ephi, cpF, marker='^', color='k')"
     ],
     "language": "python",
     "metadata": {},
     "outputs": [
      {
       "output_type": "stream",
       "stream": "stdout",
       "text": [
        "qR = 0.075, q = 0.078, Cov = 2.087 mg/g\n",
        "At critical point colloid volume fraction is 0.616 and osmotic insertion work is 476.109 kT\n"
       ]
      },
      {
       "metadata": {},
       "output_type": "pyout",
       "prompt_number": 48,
       "text": [
        "<matplotlib.collections.PathCollection at 0x7f5873f3ea10>"
       ]
      },
      {
       "metadata": {},
       "output_type": "display_data",
       "png": "[encoded data removed]",
       "text": [
        "<matplotlib.figure.Figure at 0x7f58740a8f10>"
       ]
      }
     ],
     "prompt_number": 48
    },
    {
     "cell_type": "code",
     "collapsed": false,
     "input": [
      "phixp*ephi"
     ],
     "language": "python",
     "metadata": {},
     "outputs": [
      {
       "metadata": {},
       "output_type": "pyout",
       "prompt_number": 50,
       "text": [
        "array([ 0.06898607,  0.12762423,  0.13452284,  0.12647446,  0.33343267,\n",
        "        0.31273685,  0.29434057,  0.30468848])"
       ]
      }
     ],
     "prompt_number": 50
    },
    {
     "cell_type": "code",
     "collapsed": false,
     "input": [
      "phiF*ephi"
     ],
     "language": "python",
     "metadata": {},
     "outputs": [
      {
       "metadata": {},
       "output_type": "pyout",
       "prompt_number": 49,
       "text": [
        "array([ 0.14142144,  0.14142144,  0.13912191,  0.08393305,  0.30698801,\n",
        "        0.30928755])"
       ]
      }
     ],
     "prompt_number": 49
    },
    {
     "cell_type": "code",
     "collapsed": false,
     "input": [],
     "language": "python",
     "metadata": {},
     "outputs": []
    }
   ],
   "metadata": {}
  }
 ]
}